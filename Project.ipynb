{
 "cells": [
  {
   "cell_type": "code",
   "execution_count": 1,
   "id": "fe20ed1b-c008-4627-b444-27e7eaa76f6d",
   "metadata": {
    "tags": []
   },
   "outputs": [],
   "source": [
    "import pandas as pd\n",
    "import matplotlib.pyplot as plt\n",
    "from sklearn.naive_bayes import GaussianNB\n",
    "from sklearn.naive_bayes import BernoulliNB\n",
    "from sklearn.naive_bayes import MultinomialNB\n",
    "from sklearn import metrics\n",
    "from sklearn.metrics import accuracy_score\n",
    "import numpy as np\n",
    "import sys\n",
    "import re\n",
    "from sklearn.metrics import mean_squared_error\n",
    "from sklearn.feature_extraction.text import CountVectorizer\n",
    "from sklearn.model_selection import train_test_split\n",
    "from sklearn.metrics import r2_score\n",
    "from sklearn.preprocessing import LabelEncoder,OneHotEncoder\n",
    "import tensorflow as tf\n",
    "from tensorflow.keras.models import Sequential\n",
    "from tensorflow.keras.preprocessing.sequence import pad_sequences\n",
    "from tensorflow.keras.layers import Dense, Dropout, Activation, Flatten, Conv2D, MaxPooling2D, InputLayer\n"
   ]
  },
  {
   "cell_type": "code",
   "execution_count": 2,
   "id": "e56b5e5a-b532-4f47-8506-82978e44a908",
   "metadata": {},
   "outputs": [
    {
     "data": {
      "text/html": [
       "<div>\n",
       "<style scoped>\n",
       "    .dataframe tbody tr th:only-of-type {\n",
       "        vertical-align: middle;\n",
       "    }\n",
       "\n",
       "    .dataframe tbody tr th {\n",
       "        vertical-align: top;\n",
       "    }\n",
       "\n",
       "    .dataframe thead th {\n",
       "        text-align: right;\n",
       "    }\n",
       "</style>\n",
       "<table border=\"1\" class=\"dataframe\">\n",
       "  <thead>\n",
       "    <tr style=\"text-align: right;\">\n",
       "      <th></th>\n",
       "      <th>Virus name</th>\n",
       "      <th>Accession ID</th>\n",
       "      <th>Collection date</th>\n",
       "      <th>Location</th>\n",
       "      <th>Host</th>\n",
       "      <th>Passage</th>\n",
       "      <th>Specimen</th>\n",
       "      <th>Additional host information</th>\n",
       "      <th>Sequencing technology</th>\n",
       "      <th>Assembly method</th>\n",
       "      <th>Comment</th>\n",
       "      <th>Comment type</th>\n",
       "      <th>Lineage</th>\n",
       "      <th>Clade</th>\n",
       "      <th>AA Substitutions</th>\n",
       "      <th>Variant</th>\n",
       "      <th>Classified</th>\n",
       "    </tr>\n",
       "  </thead>\n",
       "  <tbody>\n",
       "    <tr>\n",
       "      <th>0</th>\n",
       "      <td>hCoV-19/England/CAMC-149B04F/2021</td>\n",
       "      <td>EPI_ISL_1483874</td>\n",
       "      <td>3/30/2021</td>\n",
       "      <td>Europe / United Kingdom / England</td>\n",
       "      <td>Human</td>\n",
       "      <td>Original</td>\n",
       "      <td>NaN</td>\n",
       "      <td>NaN</td>\n",
       "      <td>Illumina NovaSeq</td>\n",
       "      <td>NaN</td>\n",
       "      <td>Gap of 30 nucleotides when compared to the ref...</td>\n",
       "      <td>warn</td>\n",
       "      <td>C.37</td>\n",
       "      <td>GR</td>\n",
       "      <td>(Spike_L249del,Spike_S247del,Spike_G75V,Spike_...</td>\n",
       "      <td>VOI Lambda GR/452Q.V1 (C.37+C.37.1) first dete...</td>\n",
       "      <td>0</td>\n",
       "    </tr>\n",
       "    <tr>\n",
       "      <th>1</th>\n",
       "      <td>hCoV-19/USA/NY-CDC-QDX23179684/2021</td>\n",
       "      <td>EPI_ISL_1491965</td>\n",
       "      <td>3/20/2021</td>\n",
       "      <td>North America / USA / New York</td>\n",
       "      <td>Human</td>\n",
       "      <td>Original</td>\n",
       "      <td>Nasal swab</td>\n",
       "      <td>NaN</td>\n",
       "      <td>Illumina MiSeq</td>\n",
       "      <td>BWA v.7.12</td>\n",
       "      <td>Gap of 30 nucleotides when compared to the ref...</td>\n",
       "      <td>warn</td>\n",
       "      <td>C.37</td>\n",
       "      <td>GR</td>\n",
       "      <td>(Spike_L249del,Spike_S247del,Spike_G75V,Spike_...</td>\n",
       "      <td>VOI Lambda GR/452Q.V1 (C.37+C.37.1) first dete...</td>\n",
       "      <td>0</td>\n",
       "    </tr>\n",
       "    <tr>\n",
       "      <th>2</th>\n",
       "      <td>hCoV-19/USA/CA-CDC-FG-010085/2021</td>\n",
       "      <td>EPI_ISL_1481945</td>\n",
       "      <td>3/13/2021</td>\n",
       "      <td>North America / USA / California</td>\n",
       "      <td>Human</td>\n",
       "      <td>Original</td>\n",
       "      <td>Nasal swab</td>\n",
       "      <td>NaN</td>\n",
       "      <td>Illumina NovaSeq</td>\n",
       "      <td>BWA; iVar 1.3</td>\n",
       "      <td>Gap of 30 nucleotides when compared to the ref...</td>\n",
       "      <td>warn</td>\n",
       "      <td>C.37</td>\n",
       "      <td>GR</td>\n",
       "      <td>(Spike_L249del,Spike_S247del,Spike_G75V,Spike_...</td>\n",
       "      <td>VOI Lambda GR/452Q.V1 (C.37+C.37.1) first dete...</td>\n",
       "      <td>0</td>\n",
       "    </tr>\n",
       "    <tr>\n",
       "      <th>3</th>\n",
       "      <td>hCoV-19/USA/TN-CDC-ASC210017485/2021</td>\n",
       "      <td>EPI_ISL_1491924</td>\n",
       "      <td>3/24/2021</td>\n",
       "      <td>North America / USA / Tennessee</td>\n",
       "      <td>Human</td>\n",
       "      <td>Original</td>\n",
       "      <td>Nasal - Anterior Nares</td>\n",
       "      <td>NaN</td>\n",
       "      <td>Illumina NovaSeq 6000</td>\n",
       "      <td>Dragen COVID Lineage v3.5.1</td>\n",
       "      <td>Gap of 30 nucleotides when compared to the ref...</td>\n",
       "      <td>warn</td>\n",
       "      <td>C.37</td>\n",
       "      <td>GR</td>\n",
       "      <td>(Spike_L249del,Spike_S247del,Spike_G75V,Spike_...</td>\n",
       "      <td>VOI Lambda GR/452Q.V1 (C.37+C.37.1) first dete...</td>\n",
       "      <td>0</td>\n",
       "    </tr>\n",
       "    <tr>\n",
       "      <th>4</th>\n",
       "      <td>hCoV-19/USA/TN-CDC-ASC210016026/2021</td>\n",
       "      <td>EPI_ISL_1513430</td>\n",
       "      <td>3/23/2021</td>\n",
       "      <td>North America / USA / Tennessee</td>\n",
       "      <td>Human</td>\n",
       "      <td>Original</td>\n",
       "      <td>Nasal swab</td>\n",
       "      <td>NaN</td>\n",
       "      <td>Illumina NovaSeq 6000</td>\n",
       "      <td>Dragen COVID Lineage v3.5.1</td>\n",
       "      <td>Gap of 30 nucleotides when compared to the ref...</td>\n",
       "      <td>warn</td>\n",
       "      <td>C.37</td>\n",
       "      <td>GR</td>\n",
       "      <td>(Spike_L249del,Spike_S247del,Spike_G75V,Spike_...</td>\n",
       "      <td>VOI Lambda GR/452Q.V1 (C.37+C.37.1) first dete...</td>\n",
       "      <td>0</td>\n",
       "    </tr>\n",
       "    <tr>\n",
       "      <th>5</th>\n",
       "      <td>hCoV-19/USA/TN-CDC-ASC210016009/2021</td>\n",
       "      <td>EPI_ISL_1513424</td>\n",
       "      <td>3/23/2021</td>\n",
       "      <td>North America / USA / Tennessee</td>\n",
       "      <td>Human</td>\n",
       "      <td>Original</td>\n",
       "      <td>Nasopharyngeal swab</td>\n",
       "      <td>NaN</td>\n",
       "      <td>Illumina NovaSeq 6000</td>\n",
       "      <td>Dragen COVID Lineage v3.5.1</td>\n",
       "      <td>Gap of 30 nucleotides when compared to the ref...</td>\n",
       "      <td>warn</td>\n",
       "      <td>C.37</td>\n",
       "      <td>GR</td>\n",
       "      <td>(Spike_L249del,Spike_S247del,Spike_G75V,Spike_...</td>\n",
       "      <td>VOI Lambda GR/452Q.V1 (C.37+C.37.1) first dete...</td>\n",
       "      <td>0</td>\n",
       "    </tr>\n",
       "    <tr>\n",
       "      <th>6</th>\n",
       "      <td>hCoV-19/USA/AR-CDC-LC0035111/2021</td>\n",
       "      <td>EPI_ISL_1515553</td>\n",
       "      <td>3/23/2021</td>\n",
       "      <td>North America / USA / Arkansas</td>\n",
       "      <td>Human</td>\n",
       "      <td>Original</td>\n",
       "      <td>Nasal swab</td>\n",
       "      <td>NaN</td>\n",
       "      <td>PacBio Sequel II</td>\n",
       "      <td>CLC Genomics</td>\n",
       "      <td>Long stretches of NNNs (6.74% of overall seque...</td>\n",
       "      <td>alert</td>\n",
       "      <td>C.37</td>\n",
       "      <td>GR</td>\n",
       "      <td>(N_T366I,N_G214C,NSP5_G15S,NSP6_G107del,NSP6_S...</td>\n",
       "      <td>VOI Lambda GR/452Q.V1 (C.37+C.37.1) first dete...</td>\n",
       "      <td>0</td>\n",
       "    </tr>\n",
       "    <tr>\n",
       "      <th>7</th>\n",
       "      <td>hCoV-19/USA/AZ-CDC-LC0035336/2021</td>\n",
       "      <td>EPI_ISL_1515705</td>\n",
       "      <td>3/26/2021</td>\n",
       "      <td>North America / USA / Arizona</td>\n",
       "      <td>Human</td>\n",
       "      <td>Original</td>\n",
       "      <td>Nasal swab</td>\n",
       "      <td>NaN</td>\n",
       "      <td>PacBio Sequel II</td>\n",
       "      <td>CLC Genomics</td>\n",
       "      <td>Gap of 30 nucleotides when compared to the ref...</td>\n",
       "      <td>warn</td>\n",
       "      <td>C.37</td>\n",
       "      <td>GR</td>\n",
       "      <td>(Spike_L249del,Spike_S247del,Spike_G75V,Spike_...</td>\n",
       "      <td>VOI Lambda GR/452Q.V1 (C.37+C.37.1) first dete...</td>\n",
       "      <td>0</td>\n",
       "    </tr>\n",
       "    <tr>\n",
       "      <th>8</th>\n",
       "      <td>hCoV-19/Canada/QC-1nIUH-5524359940/2021</td>\n",
       "      <td>EPI_ISL_2975479</td>\n",
       "      <td>4/5/2021</td>\n",
       "      <td>North America / Canada / Quebec</td>\n",
       "      <td>Human</td>\n",
       "      <td>Original</td>\n",
       "      <td>NaN</td>\n",
       "      <td>NaN</td>\n",
       "      <td>Illumina_NexteraFlex</td>\n",
       "      <td>iVar 1.3</td>\n",
       "      <td>Gap of 9 nucleotides when compared to the refe...</td>\n",
       "      <td>info</td>\n",
       "      <td>C.37</td>\n",
       "      <td>GR</td>\n",
       "      <td>(Spike_G75V,NSP6_S106del,N_R203K,Spike_F490S,S...</td>\n",
       "      <td>VOI Lambda GR/452Q.V1 (C.37+C.37.1) first dete...</td>\n",
       "      <td>0</td>\n",
       "    </tr>\n",
       "    <tr>\n",
       "      <th>9</th>\n",
       "      <td>hCoV-19/USA/NY-MSHSPSP-PV35341/2021</td>\n",
       "      <td>EPI_ISL_1709289</td>\n",
       "      <td>3/10/2021</td>\n",
       "      <td>North America / USA / New York / Queens County</td>\n",
       "      <td>Human</td>\n",
       "      <td>Original</td>\n",
       "      <td>NaN</td>\n",
       "      <td>NaN</td>\n",
       "      <td>Illumina MiSeq</td>\n",
       "      <td>Minimap2, Pilon</td>\n",
       "      <td>Gap of 30 nucleotides when compared to the ref...</td>\n",
       "      <td>warn</td>\n",
       "      <td>C.37</td>\n",
       "      <td>GR</td>\n",
       "      <td>(Spike_L249del,Spike_S247del,Spike_G75V,Spike_...</td>\n",
       "      <td>VOI Lambda GR/452Q.V1 (C.37+C.37.1) first dete...</td>\n",
       "      <td>0</td>\n",
       "    </tr>\n",
       "  </tbody>\n",
       "</table>\n",
       "</div>"
      ],
      "text/plain": [
       "                                Virus name     Accession ID Collection date  \\\n",
       "0        hCoV-19/England/CAMC-149B04F/2021  EPI_ISL_1483874       3/30/2021   \n",
       "1      hCoV-19/USA/NY-CDC-QDX23179684/2021  EPI_ISL_1491965       3/20/2021   \n",
       "2        hCoV-19/USA/CA-CDC-FG-010085/2021  EPI_ISL_1481945       3/13/2021   \n",
       "3     hCoV-19/USA/TN-CDC-ASC210017485/2021  EPI_ISL_1491924       3/24/2021   \n",
       "4     hCoV-19/USA/TN-CDC-ASC210016026/2021  EPI_ISL_1513430       3/23/2021   \n",
       "5     hCoV-19/USA/TN-CDC-ASC210016009/2021  EPI_ISL_1513424       3/23/2021   \n",
       "6        hCoV-19/USA/AR-CDC-LC0035111/2021  EPI_ISL_1515553       3/23/2021   \n",
       "7        hCoV-19/USA/AZ-CDC-LC0035336/2021  EPI_ISL_1515705       3/26/2021   \n",
       "8  hCoV-19/Canada/QC-1nIUH-5524359940/2021  EPI_ISL_2975479        4/5/2021   \n",
       "9      hCoV-19/USA/NY-MSHSPSP-PV35341/2021  EPI_ISL_1709289       3/10/2021   \n",
       "\n",
       "                                         Location   Host   Passage  \\\n",
       "0               Europe / United Kingdom / England  Human  Original   \n",
       "1                  North America / USA / New York  Human  Original   \n",
       "2                North America / USA / California  Human  Original   \n",
       "3                 North America / USA / Tennessee  Human  Original   \n",
       "4                 North America / USA / Tennessee  Human  Original   \n",
       "5                 North America / USA / Tennessee  Human  Original   \n",
       "6                  North America / USA / Arkansas  Human  Original   \n",
       "7                   North America / USA / Arizona  Human  Original   \n",
       "8                 North America / Canada / Quebec  Human  Original   \n",
       "9  North America / USA / New York / Queens County  Human  Original   \n",
       "\n",
       "                 Specimen Additional host information  Sequencing technology  \\\n",
       "0                     NaN                         NaN       Illumina NovaSeq   \n",
       "1              Nasal swab                         NaN         Illumina MiSeq   \n",
       "2              Nasal swab                         NaN       Illumina NovaSeq   \n",
       "3  Nasal - Anterior Nares                         NaN  Illumina NovaSeq 6000   \n",
       "4              Nasal swab                         NaN  Illumina NovaSeq 6000   \n",
       "5     Nasopharyngeal swab                         NaN  Illumina NovaSeq 6000   \n",
       "6              Nasal swab                         NaN       PacBio Sequel II   \n",
       "7              Nasal swab                         NaN       PacBio Sequel II   \n",
       "8                     NaN                         NaN   Illumina_NexteraFlex   \n",
       "9                     NaN                         NaN         Illumina MiSeq   \n",
       "\n",
       "               Assembly method  \\\n",
       "0                          NaN   \n",
       "1                   BWA v.7.12   \n",
       "2                BWA; iVar 1.3   \n",
       "3  Dragen COVID Lineage v3.5.1   \n",
       "4  Dragen COVID Lineage v3.5.1   \n",
       "5  Dragen COVID Lineage v3.5.1   \n",
       "6                 CLC Genomics   \n",
       "7                 CLC Genomics   \n",
       "8                     iVar 1.3   \n",
       "9              Minimap2, Pilon   \n",
       "\n",
       "                                             Comment Comment type Lineage  \\\n",
       "0  Gap of 30 nucleotides when compared to the ref...         warn    C.37   \n",
       "1  Gap of 30 nucleotides when compared to the ref...         warn    C.37   \n",
       "2  Gap of 30 nucleotides when compared to the ref...         warn    C.37   \n",
       "3  Gap of 30 nucleotides when compared to the ref...         warn    C.37   \n",
       "4  Gap of 30 nucleotides when compared to the ref...         warn    C.37   \n",
       "5  Gap of 30 nucleotides when compared to the ref...         warn    C.37   \n",
       "6  Long stretches of NNNs (6.74% of overall seque...        alert    C.37   \n",
       "7  Gap of 30 nucleotides when compared to the ref...         warn    C.37   \n",
       "8  Gap of 9 nucleotides when compared to the refe...         info    C.37   \n",
       "9  Gap of 30 nucleotides when compared to the ref...         warn    C.37   \n",
       "\n",
       "  Clade                                   AA Substitutions  \\\n",
       "0    GR  (Spike_L249del,Spike_S247del,Spike_G75V,Spike_...   \n",
       "1    GR  (Spike_L249del,Spike_S247del,Spike_G75V,Spike_...   \n",
       "2    GR  (Spike_L249del,Spike_S247del,Spike_G75V,Spike_...   \n",
       "3    GR  (Spike_L249del,Spike_S247del,Spike_G75V,Spike_...   \n",
       "4    GR  (Spike_L249del,Spike_S247del,Spike_G75V,Spike_...   \n",
       "5    GR  (Spike_L249del,Spike_S247del,Spike_G75V,Spike_...   \n",
       "6    GR  (N_T366I,N_G214C,NSP5_G15S,NSP6_G107del,NSP6_S...   \n",
       "7    GR  (Spike_L249del,Spike_S247del,Spike_G75V,Spike_...   \n",
       "8    GR  (Spike_G75V,NSP6_S106del,N_R203K,Spike_F490S,S...   \n",
       "9    GR  (Spike_L249del,Spike_S247del,Spike_G75V,Spike_...   \n",
       "\n",
       "                                             Variant Classified  \n",
       "0  VOI Lambda GR/452Q.V1 (C.37+C.37.1) first dete...          0  \n",
       "1  VOI Lambda GR/452Q.V1 (C.37+C.37.1) first dete...          0  \n",
       "2  VOI Lambda GR/452Q.V1 (C.37+C.37.1) first dete...          0  \n",
       "3  VOI Lambda GR/452Q.V1 (C.37+C.37.1) first dete...          0  \n",
       "4  VOI Lambda GR/452Q.V1 (C.37+C.37.1) first dete...          0  \n",
       "5  VOI Lambda GR/452Q.V1 (C.37+C.37.1) first dete...          0  \n",
       "6  VOI Lambda GR/452Q.V1 (C.37+C.37.1) first dete...          0  \n",
       "7  VOI Lambda GR/452Q.V1 (C.37+C.37.1) first dete...          0  \n",
       "8  VOI Lambda GR/452Q.V1 (C.37+C.37.1) first dete...          0  \n",
       "9  VOI Lambda GR/452Q.V1 (C.37+C.37.1) first dete...          0  "
      ]
     },
     "execution_count": 2,
     "metadata": {},
     "output_type": "execute_result"
    }
   ],
   "source": [
    "vdata = pd.read_csv(\"VariantTrainingData.csv\")\n",
    "vdata.head(10)\n",
    "\n",
    "vdata.loc[vdata[\"Classified\"] == 'VOI', \"Classified\"] = 0\n",
    "vdata.loc[vdata[\"Classified\"] == 'VOC', \"Classified\"] = 1\n",
    "vdata.loc[vdata[\"Classified\"] == 'VUM', \"Classified\"] = 2\n",
    "\n",
    "spikeP = vdata[\"AA Substitutions\"]\n",
    "lineage = vdata[\"Lineage\"]\n",
    "clade = vdata[\"Clade\"]\n",
    "variant = vdata[\"Classified\"]\n",
    "\n",
    "vdata.head(10)\n"
   ]
  },
  {
   "cell_type": "code",
   "execution_count": 3,
   "id": "727683a5-05dd-4c91-bf78-03a39f37e21f",
   "metadata": {},
   "outputs": [
    {
     "data": {
      "text/plain": [
       "0       (Spike_L249del,Spike_S247del,Spike_G75V,Spike_...\n",
       "1       (Spike_L249del,Spike_S247del,Spike_G75V,Spike_...\n",
       "2       (Spike_L249del,Spike_S247del,Spike_G75V,Spike_...\n",
       "3       (Spike_L249del,Spike_S247del,Spike_G75V,Spike_...\n",
       "4       (Spike_L249del,Spike_S247del,Spike_G75V,Spike_...\n",
       "                              ...                        \n",
       "3995    (Spike_T95I,Spike_E484K,NSP7_S26F,NS3_L106F,NS...\n",
       "3996    (NSP13_P419S,NSP6_Q160R,Spike_T95I,N_A152G,Spi...\n",
       "3997    (NSP13_P419S,NSP12_M629I,Spike_T95I,Spike_D950...\n",
       "3998    (Spike_T95I,NSP1_M85del,Spike_E484K,NSP14_L177...\n",
       "3999    (Spike_T95I,NSP1_M85del,Spike_E484K,NSP14_L177...\n",
       "Name: AA Substitutions, Length: 4000, dtype: object"
      ]
     },
     "execution_count": 3,
     "metadata": {},
     "output_type": "execute_result"
    }
   ],
   "source": [
    "spikeP"
   ]
  },
  {
   "cell_type": "code",
   "execution_count": 4,
   "id": "c71e46dd-b6c6-40a9-8d11-5aee091dd3ba",
   "metadata": {},
   "outputs": [],
   "source": [
    "cv=CountVectorizer()"
   ]
  },
  {
   "cell_type": "code",
   "execution_count": 5,
   "id": "ff753d23-bd8b-4617-8f88-09220e367b4e",
   "metadata": {},
   "outputs": [
    {
     "name": "stdout",
     "output_type": "stream",
     "text": [
      "<class 'scipy.sparse._csr.csr_matrix'>\n",
      "['e_a36v' 'e_d72g' 'e_d72y' ... 'spike_y449n' 'spike_y505h' 'spike_y660h']\n",
      "3674    0\n",
      "2841    2\n",
      "1580    1\n",
      "3579    0\n",
      "2023    1\n",
      "       ..\n",
      "1787    1\n",
      "3144    1\n",
      "2300    1\n",
      "3615    0\n",
      "1438    1\n",
      "Name: Classified, Length: 3200, dtype: int32\n"
     ]
    }
   ],
   "source": [
    "x_train, x_test, y_train, y_test = train_test_split(spikeP, variant, test_size=0.2)\n",
    "\n",
    "x_traincv = cv.fit_transform(x_train)\n",
    "x_traincv.toarray()\n",
    "print(type(x_traincv))\n",
    "print(cv.get_feature_names_out())\n",
    "print(y_train.astype('int'))"
   ]
  },
  {
   "cell_type": "code",
   "execution_count": 6,
   "id": "cdfe21cb-8724-40b9-80f8-a6f2b7661a6b",
   "metadata": {},
   "outputs": [
    {
     "data": {
      "text/html": [
       "<style>#sk-container-id-1 {color: black;background-color: white;}#sk-container-id-1 pre{padding: 0;}#sk-container-id-1 div.sk-toggleable {background-color: white;}#sk-container-id-1 label.sk-toggleable__label {cursor: pointer;display: block;width: 100%;margin-bottom: 0;padding: 0.3em;box-sizing: border-box;text-align: center;}#sk-container-id-1 label.sk-toggleable__label-arrow:before {content: \"▸\";float: left;margin-right: 0.25em;color: #696969;}#sk-container-id-1 label.sk-toggleable__label-arrow:hover:before {color: black;}#sk-container-id-1 div.sk-estimator:hover label.sk-toggleable__label-arrow:before {color: black;}#sk-container-id-1 div.sk-toggleable__content {max-height: 0;max-width: 0;overflow: hidden;text-align: left;background-color: #f0f8ff;}#sk-container-id-1 div.sk-toggleable__content pre {margin: 0.2em;color: black;border-radius: 0.25em;background-color: #f0f8ff;}#sk-container-id-1 input.sk-toggleable__control:checked~div.sk-toggleable__content {max-height: 200px;max-width: 100%;overflow: auto;}#sk-container-id-1 input.sk-toggleable__control:checked~label.sk-toggleable__label-arrow:before {content: \"▾\";}#sk-container-id-1 div.sk-estimator input.sk-toggleable__control:checked~label.sk-toggleable__label {background-color: #d4ebff;}#sk-container-id-1 div.sk-label input.sk-toggleable__control:checked~label.sk-toggleable__label {background-color: #d4ebff;}#sk-container-id-1 input.sk-hidden--visually {border: 0;clip: rect(1px 1px 1px 1px);clip: rect(1px, 1px, 1px, 1px);height: 1px;margin: -1px;overflow: hidden;padding: 0;position: absolute;width: 1px;}#sk-container-id-1 div.sk-estimator {font-family: monospace;background-color: #f0f8ff;border: 1px dotted black;border-radius: 0.25em;box-sizing: border-box;margin-bottom: 0.5em;}#sk-container-id-1 div.sk-estimator:hover {background-color: #d4ebff;}#sk-container-id-1 div.sk-parallel-item::after {content: \"\";width: 100%;border-bottom: 1px solid gray;flex-grow: 1;}#sk-container-id-1 div.sk-label:hover label.sk-toggleable__label {background-color: #d4ebff;}#sk-container-id-1 div.sk-serial::before {content: \"\";position: absolute;border-left: 1px solid gray;box-sizing: border-box;top: 0;bottom: 0;left: 50%;z-index: 0;}#sk-container-id-1 div.sk-serial {display: flex;flex-direction: column;align-items: center;background-color: white;padding-right: 0.2em;padding-left: 0.2em;position: relative;}#sk-container-id-1 div.sk-item {position: relative;z-index: 1;}#sk-container-id-1 div.sk-parallel {display: flex;align-items: stretch;justify-content: center;background-color: white;position: relative;}#sk-container-id-1 div.sk-item::before, #sk-container-id-1 div.sk-parallel-item::before {content: \"\";position: absolute;border-left: 1px solid gray;box-sizing: border-box;top: 0;bottom: 0;left: 50%;z-index: -1;}#sk-container-id-1 div.sk-parallel-item {display: flex;flex-direction: column;z-index: 1;position: relative;background-color: white;}#sk-container-id-1 div.sk-parallel-item:first-child::after {align-self: flex-end;width: 50%;}#sk-container-id-1 div.sk-parallel-item:last-child::after {align-self: flex-start;width: 50%;}#sk-container-id-1 div.sk-parallel-item:only-child::after {width: 0;}#sk-container-id-1 div.sk-dashed-wrapped {border: 1px dashed gray;margin: 0 0.4em 0.5em 0.4em;box-sizing: border-box;padding-bottom: 0.4em;background-color: white;}#sk-container-id-1 div.sk-label label {font-family: monospace;font-weight: bold;display: inline-block;line-height: 1.2em;}#sk-container-id-1 div.sk-label-container {text-align: center;}#sk-container-id-1 div.sk-container {/* jupyter's `normalize.less` sets `[hidden] { display: none; }` but bootstrap.min.css set `[hidden] { display: none !important; }` so we also need the `!important` here to be able to override the default hidden behavior on the sphinx rendered scikit-learn.org. See: https://github.com/scikit-learn/scikit-learn/issues/21755 */display: inline-block !important;position: relative;}#sk-container-id-1 div.sk-text-repr-fallback {display: none;}</style><div id=\"sk-container-id-1\" class=\"sk-top-container\"><div class=\"sk-text-repr-fallback\"><pre>MultinomialNB()</pre><b>In a Jupyter environment, please rerun this cell to show the HTML representation or trust the notebook. <br />On GitHub, the HTML representation is unable to render, please try loading this page with nbviewer.org.</b></div><div class=\"sk-container\" hidden><div class=\"sk-item\"><div class=\"sk-estimator sk-toggleable\"><input class=\"sk-toggleable__control sk-hidden--visually\" id=\"sk-estimator-id-1\" type=\"checkbox\" checked><label for=\"sk-estimator-id-1\" class=\"sk-toggleable__label sk-toggleable__label-arrow\">MultinomialNB</label><div class=\"sk-toggleable__content\"><pre>MultinomialNB()</pre></div></div></div></div></div>"
      ],
      "text/plain": [
       "MultinomialNB()"
      ]
     },
     "execution_count": 6,
     "metadata": {},
     "output_type": "execute_result"
    }
   ],
   "source": [
    "multiNom = MultinomialNB()\n",
    "multiNom.fit(x_traincv, y_train.astype('int'))"
   ]
  },
  {
   "cell_type": "code",
   "execution_count": 7,
   "id": "20e528b4-c3fb-4e0b-9617-94e8789fa840",
   "metadata": {},
   "outputs": [
    {
     "name": "stdout",
     "output_type": "stream",
     "text": [
      "1.0\n",
      "1.0\n"
     ]
    },
    {
     "data": {
      "text/plain": [
       "1.0"
      ]
     },
     "execution_count": 7,
     "metadata": {},
     "output_type": "execute_result"
    }
   ],
   "source": [
    "x_testcv = cv.transform(x_test)\n",
    "print(multiNom.score(x_testcv, y_test.astype('int')))\n",
    "\n",
    "x_predict = multiNom.predict(x_testcv)\n",
    "print(accuracy_score(x_predict, y_test.astype('int')))\n",
    "r2_score(x_predict,y_test.astype('int'))"
   ]
  },
  {
   "cell_type": "code",
   "execution_count": 8,
   "id": "8eff79ae-e35f-469c-999c-fad0b8e11e43",
   "metadata": {
    "tags": []
   },
   "outputs": [
    {
     "name": "stdout",
     "output_type": "stream",
     "text": [
      "1.0\n"
     ]
    }
   ],
   "source": [
    "GausNB = GaussianNB()\n",
    "GausNB.fit(x_traincv.toarray(),y_train.astype('int'))\n",
    "\n",
    "print(GausNB.score(x_testcv.toarray(),y_test.astype('int')))\n"
   ]
  },
  {
   "cell_type": "code",
   "execution_count": 9,
   "id": "ffd1245e-fc8c-4441-ad01-bff0e993f860",
   "metadata": {},
   "outputs": [
    {
     "name": "stdout",
     "output_type": "stream",
     "text": [
      "<class 'pandas.core.frame.DataFrame'>\n",
      "0       AGATCTGTTCTCTAAACGAACTTTAAAATCTGTGTGGCTGTCACTC...\n",
      "1       AGATCTGTTCTCTAAACGAACTTTAAAATCTGTGTGGCTGTCACTC...\n",
      "2       AGATCTGTTCTCTAAACGAACTTTAAAATCTGTGTGGCTGTCACTC...\n",
      "3       TTCTCTAAACGAACTTTAAAATCTGTGTGGCTGTCACTCGGCTGCA...\n",
      "4       AGATCTGTTCTCTAAACGAACTTTAAAATCTGTGTGGCTGTCACTC...\n",
      "                              ...                        \n",
      "4683    ACTTTCGATCTCTTGTAGATCTGTTCTCTAAACGAACTTTAAAATC...\n",
      "4684    TAAAGGTTTATACCTTCCCAGGTAACAAACCAACCAACTTTCGATC...\n",
      "4685    ACTTTCGATCTCTTGTAGATCTGTTCTCTAAACGAACTTTAAAATC...\n",
      "4686    ACTTTCGATCTCTTGTAGATCTGTTCTCTAAACGAACTTTAAAATC...\n",
      "4687    ACTTTCGATCTCTTGTAGATCTGTTCTCTAAACGAACTTTAAAATC...\n",
      "Name: Sequence, Length: 4688, dtype: object\n",
      "<class 'pandas.core.series.Series'>\n",
      "30299\n"
     ]
    }
   ],
   "source": [
    "seq_data =  pd.read_csv(\"Covseqdata.csv\")\n",
    "gene_seq = seq_data[\"Sequence\"]\n",
    "\n",
    "print(type(seq_data))\n",
    "print(gene_seq)\n",
    "print(type(gene_seq))\n",
    "print(seq_data.Sequence.str.len().max())"
   ]
  },
  {
   "cell_type": "code",
   "execution_count": 47,
   "id": "098fcb8a-d07e-41ed-a5d4-a17f9bcd5050",
   "metadata": {},
   "outputs": [],
   "source": [
    "#pd.options.mode.chained_assignment = None\n",
    "def str_toarray(seqstr):\n",
    "    seqstr = seqstr.lower()\n",
    "    if('z' not in seqstr):\n",
    "        seqstr = seqstr + 'n'\n",
    "    seqstr = re.sub('[^acgt]', 'z', seqstr)\n",
    "    seqstr = np.array(list(seqstr))\n",
    "    return seqstr\n",
    "def one_hot_encode(seqstr):\n",
    "    lbl_encoder = LabelEncoder()\n",
    "    lbl_encoder.fit(np.array(['a','c','g','t','z']))\n",
    "    num_encoded = lbl_encoder.transform(seqstr)\n",
    "    num_encoded = num_encoded.reshape(len(num_encoded),1)\n",
    "    onehot_encoder = OneHotEncoder(sparse_output = False, dtype=float)\n",
    "    one_encoded = onehot_encoder.fit_transform(num_encoded)\n",
    "    if (np.count_nonzero(seqstr=='z') == 1):\n",
    "        #print(\"did not find z\")\n",
    "        one_encoded[len(one_encoded) - 1] = [0., 0., 0., 0., 0.]\n",
    "    return one_encoded\n",
    "one_hot_encode(str_toarray(gene_seq[0]))\n",
    "onehot_gene_seq = []\n",
    "#seq_data.loc[seq_data[\"Sequence\"], \"One_hot_seq\"] = one_hot_encode(str_toarray())\n",
    "for count, gene in enumerate(gene_seq):\n",
    "    onehot_gene_seq.insert(count, one_hot_encode(str_toarray(gene)))\n",
    "    #seq_data.loc[seq_data[\"Sequence\"], \"One_hot_seq\"] = one_hot_encode(str_toarray(seq_data[\"Sequence\"]))\n",
    "seq_data['onehot_encode'] = onehot_gene_seq\n"
   ]
  },
  {
   "cell_type": "code",
   "execution_count": 190,
   "id": "72e23f76-d7fb-4fec-bd06-6bc40b51e111",
   "metadata": {
    "tags": []
   },
   "outputs": [
    {
     "name": "stdout",
     "output_type": "stream",
     "text": [
      "(29715, 5)\n"
     ]
    },
    {
     "data": {
      "text/html": [
       "<div>\n",
       "<style scoped>\n",
       "    .dataframe tbody tr th:only-of-type {\n",
       "        vertical-align: middle;\n",
       "    }\n",
       "\n",
       "    .dataframe tbody tr th {\n",
       "        vertical-align: top;\n",
       "    }\n",
       "\n",
       "    .dataframe thead th {\n",
       "        text-align: right;\n",
       "    }\n",
       "</style>\n",
       "<table border=\"1\" class=\"dataframe\">\n",
       "  <thead>\n",
       "    <tr style=\"text-align: right;\">\n",
       "      <th></th>\n",
       "      <th>ID</th>\n",
       "      <th>Sequence</th>\n",
       "      <th>Variant</th>\n",
       "      <th>onehot_encode</th>\n",
       "      <th>Classified</th>\n",
       "      <th>Classified2</th>\n",
       "    </tr>\n",
       "  </thead>\n",
       "  <tbody>\n",
       "    <tr>\n",
       "      <th>0</th>\n",
       "      <td>hCoV-19/Botswana/R43B69_BHP_2421009581/2021|EP...</td>\n",
       "      <td>AGATCTGTTCTCTAAACGAACTTTAAAATCTGTGTGGCTGTCACTC...</td>\n",
       "      <td>VOC</td>\n",
       "      <td>[[1.0, 0.0, 0.0, 0.0, 0.0], [0.0, 0.0, 1.0, 0....</td>\n",
       "      <td>1.0</td>\n",
       "      <td>1.0</td>\n",
       "    </tr>\n",
       "    <tr>\n",
       "      <th>1</th>\n",
       "      <td>hCoV-19/Botswana/R43B68_BHP_121142361/2021|EPI...</td>\n",
       "      <td>AGATCTGTTCTCTAAACGAACTTTAAAATCTGTGTGGCTGTCACTC...</td>\n",
       "      <td>VOC</td>\n",
       "      <td>[[1.0, 0.0, 0.0, 0.0, 0.0], [0.0, 0.0, 1.0, 0....</td>\n",
       "      <td>1.0</td>\n",
       "      <td>1.0</td>\n",
       "    </tr>\n",
       "    <tr>\n",
       "      <th>2</th>\n",
       "      <td>hCoV-19/Botswana/R43B15_BHP_000842375/2021|EPI...</td>\n",
       "      <td>AGATCTGTTCTCTAAACGAACTTTAAAATCTGTGTGGCTGTCACTC...</td>\n",
       "      <td>VOC</td>\n",
       "      <td>[[1.0, 0.0, 0.0, 0.0, 0.0], [0.0, 0.0, 1.0, 0....</td>\n",
       "      <td>1.0</td>\n",
       "      <td>1.0</td>\n",
       "    </tr>\n",
       "    <tr>\n",
       "      <th>3</th>\n",
       "      <td>hCoV-19/Botswana/R43B33_BHP_AAC25682/2021|EPI_...</td>\n",
       "      <td>TTCTCTAAACGAACTTTAAAATCTGTGTGGCTGTCACTCGGCTGCA...</td>\n",
       "      <td>VOC</td>\n",
       "      <td>[[0.0, 0.0, 0.0, 1.0, 0.0], [0.0, 0.0, 0.0, 1....</td>\n",
       "      <td>1.0</td>\n",
       "      <td>1.0</td>\n",
       "    </tr>\n",
       "    <tr>\n",
       "      <th>4</th>\n",
       "      <td>hCoV-19/Botswana/R43B70_BHP_4021000195/2021|EP...</td>\n",
       "      <td>AGATCTGTTCTCTAAACGAACTTTAAAATCTGTGTGGCTGTCACTC...</td>\n",
       "      <td>VOC</td>\n",
       "      <td>[[1.0, 0.0, 0.0, 0.0, 0.0], [0.0, 0.0, 1.0, 0....</td>\n",
       "      <td>1.0</td>\n",
       "      <td>1.0</td>\n",
       "    </tr>\n",
       "  </tbody>\n",
       "</table>\n",
       "</div>"
      ],
      "text/plain": [
       "                                                  ID  \\\n",
       "0  hCoV-19/Botswana/R43B69_BHP_2421009581/2021|EP...   \n",
       "1  hCoV-19/Botswana/R43B68_BHP_121142361/2021|EPI...   \n",
       "2  hCoV-19/Botswana/R43B15_BHP_000842375/2021|EPI...   \n",
       "3  hCoV-19/Botswana/R43B33_BHP_AAC25682/2021|EPI_...   \n",
       "4  hCoV-19/Botswana/R43B70_BHP_4021000195/2021|EP...   \n",
       "\n",
       "                                            Sequence Variant  \\\n",
       "0  AGATCTGTTCTCTAAACGAACTTTAAAATCTGTGTGGCTGTCACTC...     VOC   \n",
       "1  AGATCTGTTCTCTAAACGAACTTTAAAATCTGTGTGGCTGTCACTC...     VOC   \n",
       "2  AGATCTGTTCTCTAAACGAACTTTAAAATCTGTGTGGCTGTCACTC...     VOC   \n",
       "3  TTCTCTAAACGAACTTTAAAATCTGTGTGGCTGTCACTCGGCTGCA...     VOC   \n",
       "4  AGATCTGTTCTCTAAACGAACTTTAAAATCTGTGTGGCTGTCACTC...     VOC   \n",
       "\n",
       "                                       onehot_encode  Classified  Classified2  \n",
       "0  [[1.0, 0.0, 0.0, 0.0, 0.0], [0.0, 0.0, 1.0, 0....         1.0          1.0  \n",
       "1  [[1.0, 0.0, 0.0, 0.0, 0.0], [0.0, 0.0, 1.0, 0....         1.0          1.0  \n",
       "2  [[1.0, 0.0, 0.0, 0.0, 0.0], [0.0, 0.0, 1.0, 0....         1.0          1.0  \n",
       "3  [[0.0, 0.0, 0.0, 1.0, 0.0], [0.0, 0.0, 0.0, 1....         1.0          1.0  \n",
       "4  [[1.0, 0.0, 0.0, 0.0, 0.0], [0.0, 0.0, 1.0, 0....         1.0          1.0  "
      ]
     },
     "execution_count": 190,
     "metadata": {},
     "output_type": "execute_result"
    }
   ],
   "source": [
    "seq_data.loc[seq_data[\"Variant\"] == 'VOI', \"Classified\"] = int(0)\n",
    "seq_data.loc[seq_data[\"Variant\"] == 'VOC', \"Classified\"] = int(1)\n",
    "seq_data.loc[seq_data[\"Variant\"] == 'VUM', \"Classified\"] = int(2)\n",
    "\n",
    " \n",
    "x_seq_data = seq_data[\"onehot_encode\"]\n",
    "y_seq_data = seq_data[\"Variant\"] \n",
    "print(x_seq_data[1].shape)\n",
    "seq_data.head()\n",
    "\n"
   ]
  },
  {
   "cell_type": "code",
   "execution_count": 191,
   "id": "f41de85c-4fb4-472f-8607-076172cf10e6",
   "metadata": {
    "tags": []
   },
   "outputs": [
    {
     "name": "stdout",
     "output_type": "stream",
     "text": [
      "(4688,)\n",
      "<class 'numpy.ndarray'>\n",
      "(3,)\n"
     ]
    },
    {
     "data": {
      "text/plain": [
       "array([array([1, 0, 0]), array([1, 0, 0]), array([1, 0, 0]), ...,\n",
       "       array([0, 1, 0]), array([0, 1, 0]), array([0, 1, 0])], dtype=object)"
      ]
     },
     "execution_count": 191,
     "metadata": {},
     "output_type": "execute_result"
    }
   ],
   "source": [
    "dum = pd.get_dummies(y_seq_data)\n",
    "merged = pd.concat([seq_data, dum], axis='columns')\n",
    "#seq_data['Classified']=seq_data[['VOC','VOI','VUM']].values.tolist()\n",
    "merged['Classified']=merged[['VOC','VOI','VUM']].values.tolist()\n",
    "y_cate_data = merged['Classified']\n",
    "print(y_cate_data.shape)\n",
    "y_onehot_data = []\n",
    "for count, category in enumerate(y_cate_data):\n",
    "    y_onehot_data.insert(count,np.array(category).astype(np.float32))\n",
    "merged['Classified'] = y_onehot_data\n",
    "#y_onehot_seq_data = merged['Classified'].to_numpy()\n",
    "print(type(y_onehot_seq_data)) \n",
    "print(y_onehot_seq_data[1].shape)\n",
    "y_onehot_seq_data"
   ]
  },
  {
   "cell_type": "code",
   "execution_count": 193,
   "id": "f4737b5e-318c-4a55-9adc-1bddbeb59c3e",
   "metadata": {},
   "outputs": [
    {
     "ename": "MemoryError",
     "evalue": "Unable to allocate 2.65 GiB for an array with shape (4688, 30300, 5) and data type int32",
     "output_type": "error",
     "traceback": [
      "\u001b[1;31m---------------------------------------------------------------------------\u001b[0m",
      "\u001b[1;31mMemoryError\u001b[0m                               Traceback (most recent call last)",
      "Cell \u001b[1;32mIn[193], line 1\u001b[0m\n\u001b[1;32m----> 1\u001b[0m padd_x_seq \u001b[38;5;241m=\u001b[39m \u001b[43mpad_sequences\u001b[49m\u001b[43m(\u001b[49m\u001b[43mx_seq_data\u001b[49m\u001b[43m,\u001b[49m\u001b[43m \u001b[49m\u001b[43mpadding\u001b[49m\u001b[43m \u001b[49m\u001b[38;5;241;43m=\u001b[39;49m\u001b[43m \u001b[49m\u001b[38;5;124;43m\"\u001b[39;49m\u001b[38;5;124;43mpost\u001b[39;49m\u001b[38;5;124;43m\"\u001b[39;49m\u001b[43m)\u001b[49m\n\u001b[0;32m      2\u001b[0m \u001b[38;5;28mprint\u001b[39m((padd_x_seq\u001b[38;5;241m.\u001b[39mshape))\n\u001b[0;32m      3\u001b[0m \u001b[38;5;28mprint\u001b[39m((padd_x_seq[\u001b[38;5;241m0\u001b[39m]\u001b[38;5;241m.\u001b[39mshape))\n",
      "File \u001b[1;32m~\\CS271\\CS271env\\lib\\site-packages\\keras\\utils\\data_utils.py:1070\u001b[0m, in \u001b[0;36mpad_sequences\u001b[1;34m(sequences, maxlen, dtype, padding, truncating, value)\u001b[0m\n\u001b[0;32m   1063\u001b[0m \u001b[38;5;28;01mif\u001b[39;00m \u001b[38;5;28misinstance\u001b[39m(value, \u001b[38;5;28mstr\u001b[39m) \u001b[38;5;129;01mand\u001b[39;00m dtype \u001b[38;5;241m!=\u001b[39m \u001b[38;5;28mobject\u001b[39m \u001b[38;5;129;01mand\u001b[39;00m \u001b[38;5;129;01mnot\u001b[39;00m is_dtype_str:\n\u001b[0;32m   1064\u001b[0m     \u001b[38;5;28;01mraise\u001b[39;00m \u001b[38;5;167;01mValueError\u001b[39;00m(\n\u001b[0;32m   1065\u001b[0m         \u001b[38;5;124mf\u001b[39m\u001b[38;5;124m\"\u001b[39m\u001b[38;5;124m`dtype` \u001b[39m\u001b[38;5;132;01m{\u001b[39;00mdtype\u001b[38;5;132;01m}\u001b[39;00m\u001b[38;5;124m is not compatible with `value`\u001b[39m\u001b[38;5;124m'\u001b[39m\u001b[38;5;124ms type: \u001b[39m\u001b[38;5;124m\"\u001b[39m\n\u001b[0;32m   1066\u001b[0m         \u001b[38;5;124mf\u001b[39m\u001b[38;5;124m\"\u001b[39m\u001b[38;5;132;01m{\u001b[39;00m\u001b[38;5;28mtype\u001b[39m(value)\u001b[38;5;132;01m}\u001b[39;00m\u001b[38;5;130;01m\\n\u001b[39;00m\u001b[38;5;124mYou should set `dtype=object` for variable length \u001b[39m\u001b[38;5;124m\"\u001b[39m\n\u001b[0;32m   1067\u001b[0m         \u001b[38;5;124m\"\u001b[39m\u001b[38;5;124mstrings.\u001b[39m\u001b[38;5;124m\"\u001b[39m\n\u001b[0;32m   1068\u001b[0m     )\n\u001b[1;32m-> 1070\u001b[0m x \u001b[38;5;241m=\u001b[39m \u001b[43mnp\u001b[49m\u001b[38;5;241;43m.\u001b[39;49m\u001b[43mfull\u001b[49m\u001b[43m(\u001b[49m\u001b[43m(\u001b[49m\u001b[43mnum_samples\u001b[49m\u001b[43m,\u001b[49m\u001b[43m \u001b[49m\u001b[43mmaxlen\u001b[49m\u001b[43m)\u001b[49m\u001b[43m \u001b[49m\u001b[38;5;241;43m+\u001b[39;49m\u001b[43m \u001b[49m\u001b[43msample_shape\u001b[49m\u001b[43m,\u001b[49m\u001b[43m \u001b[49m\u001b[43mvalue\u001b[49m\u001b[43m,\u001b[49m\u001b[43m \u001b[49m\u001b[43mdtype\u001b[49m\u001b[38;5;241;43m=\u001b[39;49m\u001b[43mdtype\u001b[49m\u001b[43m)\u001b[49m\n\u001b[0;32m   1071\u001b[0m \u001b[38;5;28;01mfor\u001b[39;00m idx, s \u001b[38;5;129;01min\u001b[39;00m \u001b[38;5;28menumerate\u001b[39m(sequences):\n\u001b[0;32m   1072\u001b[0m     \u001b[38;5;28;01mif\u001b[39;00m \u001b[38;5;129;01mnot\u001b[39;00m \u001b[38;5;28mlen\u001b[39m(s):\n",
      "File \u001b[1;32m~\\CS271\\CS271env\\lib\\site-packages\\numpy\\core\\numeric.py:344\u001b[0m, in \u001b[0;36mfull\u001b[1;34m(shape, fill_value, dtype, order, like)\u001b[0m\n\u001b[0;32m    342\u001b[0m     fill_value \u001b[38;5;241m=\u001b[39m asarray(fill_value)\n\u001b[0;32m    343\u001b[0m     dtype \u001b[38;5;241m=\u001b[39m fill_value\u001b[38;5;241m.\u001b[39mdtype\n\u001b[1;32m--> 344\u001b[0m a \u001b[38;5;241m=\u001b[39m \u001b[43mempty\u001b[49m\u001b[43m(\u001b[49m\u001b[43mshape\u001b[49m\u001b[43m,\u001b[49m\u001b[43m \u001b[49m\u001b[43mdtype\u001b[49m\u001b[43m,\u001b[49m\u001b[43m \u001b[49m\u001b[43morder\u001b[49m\u001b[43m)\u001b[49m\n\u001b[0;32m    345\u001b[0m multiarray\u001b[38;5;241m.\u001b[39mcopyto(a, fill_value, casting\u001b[38;5;241m=\u001b[39m\u001b[38;5;124m'\u001b[39m\u001b[38;5;124munsafe\u001b[39m\u001b[38;5;124m'\u001b[39m)\n\u001b[0;32m    346\u001b[0m \u001b[38;5;28;01mreturn\u001b[39;00m a\n",
      "\u001b[1;31mMemoryError\u001b[0m: Unable to allocate 2.65 GiB for an array with shape (4688, 30300, 5) and data type int32"
     ]
    }
   ],
   "source": [
    "padd_x_seq = pad_sequences(x_seq_data, padding = \"post\")\n",
    "print((padd_x_seq.shape))\n",
    "print((padd_x_seq[0].shape))\n",
    "print(padd_x_seq)"
   ]
  },
  {
   "cell_type": "code",
   "execution_count": 194,
   "id": "ef98a8db-9356-45ea-814f-d5778a63d5eb",
   "metadata": {},
   "outputs": [
    {
     "ename": "MemoryError",
     "evalue": "Unable to allocate 813. MiB for an array with shape (1407, 30300, 5) and data type int32",
     "output_type": "error",
     "traceback": [
      "\u001b[1;31m---------------------------------------------------------------------------\u001b[0m",
      "\u001b[1;31mMemoryError\u001b[0m                               Traceback (most recent call last)",
      "Cell \u001b[1;32mIn[194], line 1\u001b[0m\n\u001b[1;32m----> 1\u001b[0m x_train_seq, x_test_seq, y_train_seq, y_test_seq \u001b[38;5;241m=\u001b[39m \u001b[43mtrain_test_split\u001b[49m\u001b[43m(\u001b[49m\u001b[43mpadd_x_seq\u001b[49m\u001b[43m,\u001b[49m\u001b[43m \u001b[49m\u001b[43my_onehot_seq_data\u001b[49m\u001b[43m,\u001b[49m\u001b[43m \u001b[49m\u001b[43mtest_size\u001b[49m\u001b[38;5;241;43m=\u001b[39;49m\u001b[38;5;241;43m0.3\u001b[39;49m\u001b[43m)\u001b[49m\n\u001b[0;32m      2\u001b[0m \u001b[38;5;28mprint\u001b[39m(x_train_seq)\n\u001b[0;32m      3\u001b[0m \u001b[38;5;28mprint\u001b[39m(y_train_seq)\n",
      "File \u001b[1;32m~\\CS271\\CS271env\\lib\\site-packages\\sklearn\\model_selection\\_split.py:2585\u001b[0m, in \u001b[0;36mtrain_test_split\u001b[1;34m(test_size, train_size, random_state, shuffle, stratify, *arrays)\u001b[0m\n\u001b[0;32m   2581\u001b[0m     cv \u001b[38;5;241m=\u001b[39m CVClass(test_size\u001b[38;5;241m=\u001b[39mn_test, train_size\u001b[38;5;241m=\u001b[39mn_train, random_state\u001b[38;5;241m=\u001b[39mrandom_state)\n\u001b[0;32m   2583\u001b[0m     train, test \u001b[38;5;241m=\u001b[39m \u001b[38;5;28mnext\u001b[39m(cv\u001b[38;5;241m.\u001b[39msplit(X\u001b[38;5;241m=\u001b[39marrays[\u001b[38;5;241m0\u001b[39m], y\u001b[38;5;241m=\u001b[39mstratify))\n\u001b[1;32m-> 2585\u001b[0m \u001b[38;5;28;01mreturn\u001b[39;00m \u001b[38;5;28;43mlist\u001b[39;49m\u001b[43m(\u001b[49m\n\u001b[0;32m   2586\u001b[0m \u001b[43m    \u001b[49m\u001b[43mchain\u001b[49m\u001b[38;5;241;43m.\u001b[39;49m\u001b[43mfrom_iterable\u001b[49m\u001b[43m(\u001b[49m\n\u001b[0;32m   2587\u001b[0m \u001b[43m        \u001b[49m\u001b[43m(\u001b[49m\u001b[43m_safe_indexing\u001b[49m\u001b[43m(\u001b[49m\u001b[43ma\u001b[49m\u001b[43m,\u001b[49m\u001b[43m \u001b[49m\u001b[43mtrain\u001b[49m\u001b[43m)\u001b[49m\u001b[43m,\u001b[49m\u001b[43m \u001b[49m\u001b[43m_safe_indexing\u001b[49m\u001b[43m(\u001b[49m\u001b[43ma\u001b[49m\u001b[43m,\u001b[49m\u001b[43m \u001b[49m\u001b[43mtest\u001b[49m\u001b[43m)\u001b[49m\u001b[43m)\u001b[49m\u001b[43m \u001b[49m\u001b[38;5;28;43;01mfor\u001b[39;49;00m\u001b[43m \u001b[49m\u001b[43ma\u001b[49m\u001b[43m \u001b[49m\u001b[38;5;129;43;01min\u001b[39;49;00m\u001b[43m \u001b[49m\u001b[43marrays\u001b[49m\n\u001b[0;32m   2588\u001b[0m \u001b[43m    \u001b[49m\u001b[43m)\u001b[49m\n\u001b[0;32m   2589\u001b[0m \u001b[43m\u001b[49m\u001b[43m)\u001b[49m\n",
      "File \u001b[1;32m~\\CS271\\CS271env\\lib\\site-packages\\sklearn\\model_selection\\_split.py:2587\u001b[0m, in \u001b[0;36m<genexpr>\u001b[1;34m(.0)\u001b[0m\n\u001b[0;32m   2581\u001b[0m     cv \u001b[38;5;241m=\u001b[39m CVClass(test_size\u001b[38;5;241m=\u001b[39mn_test, train_size\u001b[38;5;241m=\u001b[39mn_train, random_state\u001b[38;5;241m=\u001b[39mrandom_state)\n\u001b[0;32m   2583\u001b[0m     train, test \u001b[38;5;241m=\u001b[39m \u001b[38;5;28mnext\u001b[39m(cv\u001b[38;5;241m.\u001b[39msplit(X\u001b[38;5;241m=\u001b[39marrays[\u001b[38;5;241m0\u001b[39m], y\u001b[38;5;241m=\u001b[39mstratify))\n\u001b[0;32m   2585\u001b[0m \u001b[38;5;28;01mreturn\u001b[39;00m \u001b[38;5;28mlist\u001b[39m(\n\u001b[0;32m   2586\u001b[0m     chain\u001b[38;5;241m.\u001b[39mfrom_iterable(\n\u001b[1;32m-> 2587\u001b[0m         (_safe_indexing(a, train), \u001b[43m_safe_indexing\u001b[49m\u001b[43m(\u001b[49m\u001b[43ma\u001b[49m\u001b[43m,\u001b[49m\u001b[43m \u001b[49m\u001b[43mtest\u001b[49m\u001b[43m)\u001b[49m) \u001b[38;5;28;01mfor\u001b[39;00m a \u001b[38;5;129;01min\u001b[39;00m arrays\n\u001b[0;32m   2588\u001b[0m     )\n\u001b[0;32m   2589\u001b[0m )\n",
      "File \u001b[1;32m~\\CS271\\CS271env\\lib\\site-packages\\sklearn\\utils\\__init__.py:356\u001b[0m, in \u001b[0;36m_safe_indexing\u001b[1;34m(X, indices, axis)\u001b[0m\n\u001b[0;32m    354\u001b[0m     \u001b[38;5;28;01mreturn\u001b[39;00m _pandas_indexing(X, indices, indices_dtype, axis\u001b[38;5;241m=\u001b[39maxis)\n\u001b[0;32m    355\u001b[0m \u001b[38;5;28;01melif\u001b[39;00m \u001b[38;5;28mhasattr\u001b[39m(X, \u001b[38;5;124m\"\u001b[39m\u001b[38;5;124mshape\u001b[39m\u001b[38;5;124m\"\u001b[39m):\n\u001b[1;32m--> 356\u001b[0m     \u001b[38;5;28;01mreturn\u001b[39;00m \u001b[43m_array_indexing\u001b[49m\u001b[43m(\u001b[49m\u001b[43mX\u001b[49m\u001b[43m,\u001b[49m\u001b[43m \u001b[49m\u001b[43mindices\u001b[49m\u001b[43m,\u001b[49m\u001b[43m \u001b[49m\u001b[43mindices_dtype\u001b[49m\u001b[43m,\u001b[49m\u001b[43m \u001b[49m\u001b[43maxis\u001b[49m\u001b[38;5;241;43m=\u001b[39;49m\u001b[43maxis\u001b[49m\u001b[43m)\u001b[49m\n\u001b[0;32m    357\u001b[0m \u001b[38;5;28;01melse\u001b[39;00m:\n\u001b[0;32m    358\u001b[0m     \u001b[38;5;28;01mreturn\u001b[39;00m _list_indexing(X, indices, indices_dtype)\n",
      "File \u001b[1;32m~\\CS271\\CS271env\\lib\\site-packages\\sklearn\\utils\\__init__.py:185\u001b[0m, in \u001b[0;36m_array_indexing\u001b[1;34m(array, key, key_dtype, axis)\u001b[0m\n\u001b[0;32m    183\u001b[0m \u001b[38;5;28;01mif\u001b[39;00m \u001b[38;5;28misinstance\u001b[39m(key, \u001b[38;5;28mtuple\u001b[39m):\n\u001b[0;32m    184\u001b[0m     key \u001b[38;5;241m=\u001b[39m \u001b[38;5;28mlist\u001b[39m(key)\n\u001b[1;32m--> 185\u001b[0m \u001b[38;5;28;01mreturn\u001b[39;00m \u001b[43marray\u001b[49m\u001b[43m[\u001b[49m\u001b[43mkey\u001b[49m\u001b[43m]\u001b[49m \u001b[38;5;28;01mif\u001b[39;00m axis \u001b[38;5;241m==\u001b[39m \u001b[38;5;241m0\u001b[39m \u001b[38;5;28;01melse\u001b[39;00m array[:, key]\n",
      "\u001b[1;31mMemoryError\u001b[0m: Unable to allocate 813. MiB for an array with shape (1407, 30300, 5) and data type int32"
     ]
    }
   ],
   "source": [
    "x_train_seq, x_test_seq, y_train_seq, y_test_seq = train_test_split(padd_x_seq, y_onehot_seq_data, test_size=0.3)\n",
    "print(x_train_seq)\n",
    "print(y_train_seq)\n",
    "print(type(x_train_seq))\n",
    "print(type(y_train_seq))\n",
    "print(type(x_train_seq[0]))\n",
    "print(type(y_train_seq[0]))"
   ]
  },
  {
   "cell_type": "code",
   "execution_count": 182,
   "id": "063fe23a-478b-48e9-8fbb-3cccd146de3a",
   "metadata": {},
   "outputs": [
    {
     "name": "stderr",
     "output_type": "stream",
     "text": [
      "C:\\Users\\jxion\\CS271\\CS271env\\lib\\site-packages\\keras\\optimizers\\optimizer_v2\\gradient_descent.py:114: UserWarning: The `lr` argument is deprecated, use `learning_rate` instead.\n",
      "  super().__init__(name, **kwargs)\n"
     ]
    },
    {
     "ename": "ValueError",
     "evalue": "Failed to convert a NumPy array to a Tensor (Unsupported object type numpy.ndarray).",
     "output_type": "error",
     "traceback": [
      "\u001b[1;31m---------------------------------------------------------------------------\u001b[0m",
      "\u001b[1;31mValueError\u001b[0m                                Traceback (most recent call last)",
      "Cell \u001b[1;32mIn[182], line 18\u001b[0m\n\u001b[0;32m     15\u001b[0m CNNmodel\u001b[38;5;241m.\u001b[39madd((Dense(\u001b[38;5;241m1\u001b[39m,activation\u001b[38;5;241m=\u001b[39m\u001b[38;5;124m'\u001b[39m\u001b[38;5;124msoftmax\u001b[39m\u001b[38;5;124m'\u001b[39m)))\n\u001b[0;32m     17\u001b[0m CNNmodel\u001b[38;5;241m.\u001b[39mcompile(loss\u001b[38;5;241m=\u001b[39m\u001b[38;5;124m'\u001b[39m\u001b[38;5;124mcategorical_crossentropy\u001b[39m\u001b[38;5;124m'\u001b[39m,optimizer\u001b[38;5;241m=\u001b[39mopt,metrics\u001b[38;5;241m=\u001b[39m[\u001b[38;5;124m'\u001b[39m\u001b[38;5;124maccuracy\u001b[39m\u001b[38;5;124m'\u001b[39m])\n\u001b[1;32m---> 18\u001b[0m \u001b[43mCNNmodel\u001b[49m\u001b[38;5;241;43m.\u001b[39;49m\u001b[43mfit\u001b[49m\u001b[43m(\u001b[49m\u001b[43mx_train_seq\u001b[49m\u001b[43m,\u001b[49m\u001b[43m \u001b[49m\u001b[43my_train_seq\u001b[49m\u001b[43m,\u001b[49m\u001b[43m \u001b[49m\u001b[43mbatch_size\u001b[49m\u001b[43m \u001b[49m\u001b[38;5;241;43m=\u001b[39;49m\u001b[43m \u001b[49m\u001b[38;5;241;43m64\u001b[39;49m\u001b[43m,\u001b[49m\u001b[43m \u001b[49m\u001b[43mepochs\u001b[49m\u001b[43m \u001b[49m\u001b[38;5;241;43m=\u001b[39;49m\u001b[43m \u001b[49m\u001b[38;5;241;43m5\u001b[39;49m\u001b[43m)\u001b[49m\n",
      "File \u001b[1;32m~\\CS271\\CS271env\\lib\\site-packages\\keras\\utils\\traceback_utils.py:70\u001b[0m, in \u001b[0;36mfilter_traceback.<locals>.error_handler\u001b[1;34m(*args, **kwargs)\u001b[0m\n\u001b[0;32m     67\u001b[0m     filtered_tb \u001b[38;5;241m=\u001b[39m _process_traceback_frames(e\u001b[38;5;241m.\u001b[39m__traceback__)\n\u001b[0;32m     68\u001b[0m     \u001b[38;5;66;03m# To get the full stack trace, call:\u001b[39;00m\n\u001b[0;32m     69\u001b[0m     \u001b[38;5;66;03m# `tf.debugging.disable_traceback_filtering()`\u001b[39;00m\n\u001b[1;32m---> 70\u001b[0m     \u001b[38;5;28;01mraise\u001b[39;00m e\u001b[38;5;241m.\u001b[39mwith_traceback(filtered_tb) \u001b[38;5;28;01mfrom\u001b[39;00m \u001b[38;5;28mNone\u001b[39m\n\u001b[0;32m     71\u001b[0m \u001b[38;5;28;01mfinally\u001b[39;00m:\n\u001b[0;32m     72\u001b[0m     \u001b[38;5;28;01mdel\u001b[39;00m filtered_tb\n",
      "File \u001b[1;32m~\\CS271\\CS271env\\lib\\site-packages\\tensorflow\\python\\framework\\constant_op.py:102\u001b[0m, in \u001b[0;36mconvert_to_eager_tensor\u001b[1;34m(value, ctx, dtype)\u001b[0m\n\u001b[0;32m    100\u001b[0m     dtype \u001b[38;5;241m=\u001b[39m dtypes\u001b[38;5;241m.\u001b[39mas_dtype(dtype)\u001b[38;5;241m.\u001b[39mas_datatype_enum\n\u001b[0;32m    101\u001b[0m ctx\u001b[38;5;241m.\u001b[39mensure_initialized()\n\u001b[1;32m--> 102\u001b[0m \u001b[38;5;28;01mreturn\u001b[39;00m \u001b[43mops\u001b[49m\u001b[38;5;241;43m.\u001b[39;49m\u001b[43mEagerTensor\u001b[49m\u001b[43m(\u001b[49m\u001b[43mvalue\u001b[49m\u001b[43m,\u001b[49m\u001b[43m \u001b[49m\u001b[43mctx\u001b[49m\u001b[38;5;241;43m.\u001b[39;49m\u001b[43mdevice_name\u001b[49m\u001b[43m,\u001b[49m\u001b[43m \u001b[49m\u001b[43mdtype\u001b[49m\u001b[43m)\u001b[49m\n",
      "\u001b[1;31mValueError\u001b[0m: Failed to convert a NumPy array to a Tensor (Unsupported object type numpy.ndarray)."
     ]
    }
   ],
   "source": [
    "# implement CNN \n",
    "#y_train_seq = tf.keras.utils.to_categorical(y_train_seq, num_classes=3)\n",
    "from keras.optimizers import SGD\n",
    "opt = SGD(lr=0.001)\n",
    "CNNmodel = tf.keras.models.Sequential()\n",
    "#add convolutional layer\n",
    "CNNmodel.add(Conv2D(32, kernel_size = (3,3), activation = 'relu', input_shape = (30300,5,1)))\n",
    "\n",
    "CNNmodel.add(MaxPooling2D(pool_size=(2,2)))\n",
    "\n",
    "CNNmodel.add(Flatten())\n",
    "CNNmodel.add(Dense(225, activation='relu'))\n",
    "\n",
    "CNNmodel.add(Dropout(0.3))\n",
    "CNNmodel.add((Dense(1,activation='softmax')))\n",
    "\n",
    "CNNmodel.compile(loss='categorical_crossentropy',optimizer=opt,metrics=['accuracy'])\n",
    "CNNmodel.fit(x_train_seq, y_train_seq, batch_size = 64, epochs = 5)\n"
   ]
  },
  {
   "cell_type": "code",
   "execution_count": null,
   "id": "263e404c-1352-4f5c-a1b0-a5811fb3f409",
   "metadata": {},
   "outputs": [],
   "source": []
  }
 ],
 "metadata": {
  "kernelspec": {
   "display_name": "Python 3 (ipykernel)",
   "language": "python",
   "name": "python3"
  },
  "language_info": {
   "codemirror_mode": {
    "name": "ipython",
    "version": 3
   },
   "file_extension": ".py",
   "mimetype": "text/x-python",
   "name": "python",
   "nbconvert_exporter": "python",
   "pygments_lexer": "ipython3",
   "version": "3.10.10"
  }
 },
 "nbformat": 4,
 "nbformat_minor": 5
}
